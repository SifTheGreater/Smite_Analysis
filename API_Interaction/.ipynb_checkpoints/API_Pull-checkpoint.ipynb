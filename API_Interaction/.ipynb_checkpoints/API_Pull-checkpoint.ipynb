{
 "cells": [
  {
   "cell_type": "markdown",
   "id": "ed895119",
   "metadata": {},
   "source": [
    "## Import Libraries"
   ]
  },
  {
   "cell_type": "code",
   "execution_count": 1,
   "id": "91dd6e07",
   "metadata": {},
   "outputs": [],
   "source": [
    "import requests\n",
    "import json\n",
    "import datetime\n",
    "import hashlib\n",
    "from datetime import timezone\n",
    "import sqlite3\n",
    "import codecs\n",
    "import pandas\n",
    "from IPython.display import display"
   ]
  },
  {
   "cell_type": "markdown",
   "id": "697174b4",
   "metadata": {},
   "source": [
    "## Set up some global variables"
   ]
  },
  {
   "cell_type": "code",
   "execution_count": 2,
   "id": "9df12a9f",
   "metadata": {},
   "outputs": [],
   "source": [
    "S = 0\n",
    "base_url = \"https://api.smitegame.com/smiteapi.svc/\"\n",
    "sqliteConnection = sqlite3.connect('Smite.db')\n",
    "cursor = sqliteConnection.cursor()"
   ]
  },
  {
   "cell_type": "markdown",
   "id": "d25299f3",
   "metadata": {},
   "source": [
    "## Create functions to interact with the API and Pull data into database"
   ]
  },
  {
   "cell_type": "code",
   "execution_count": 3,
   "id": "fb4ad80d",
   "metadata": {},
   "outputs": [],
   "source": [
    "def jprint(obj):\n",
    "    # create a formatted string of the Python JSON object\n",
    "    text = json.dumps(obj, sort_keys=True, indent=4)\n",
    "    print(text)\n",
    "\n",
    "def Get_ts():\n",
    "    ts = datetime.datetime.now(timezone.utc)\n",
    "    return ts\n",
    "\n",
    "def get_Sig(session):\n",
    "    ts = Get_ts()\n",
    "    to_hash = \"3880\" + session + \"BBE7293D6D8D4223B33D4C445FF26008\" + ts.strftime('%Y%m%d%H%M%S')\n",
    "    output = hashlib.md5(to_hash.encode('utf-8'))\n",
    "    Sig = output.hexdigest()\n",
    "    return Sig\n",
    "\n",
    "def Get_session():\n",
    "    global S\n",
    "    sig = get_Sig(\"createsession\")\n",
    "    Session_ts = Get_ts()\n",
    "    url = \"{0}createsessionJson/3880/{1}/{2}\".format(base_url, sig, Session_ts.strftime('%Y%m%d%H%M%S'))\n",
    "    request = requests.get(url)\n",
    "    data = request.json()\n",
    "    S = S + 1\n",
    "    jprint(data)\n",
    "    return data[\"session_id\"], Session_ts\n",
    "\n",
    "def Session_stats():\n",
    "    session_id, session_ts = Get_session()\n",
    "    sig = get_Sig(\"getdataused\")\n",
    "    ts = Get_ts()\n",
    "    url = \"{0}getdatausedJson/3880/{1}/{2}/{3}\".format(base_url, sig, session_id, ts.strftime('%Y%m%d%H%M%S'))\n",
    "    request = requests.get(url)\n",
    "    data = request.json()\n",
    "    jprint(data)\n",
    "    return 0\n",
    "\n",
    "def Get_IDS(session_id, session_ts, queue, date):\n",
    "    sig = get_Sig(\"getmatchidsbyqueue\")\n",
    "\n",
    "    ts = Get_ts()\n",
    "\n",
    "    url = \"{0}getmatchidsbyqueueJson/3880/{1}/{2}/{3}/{4}/{5}/-1\".format(base_url, sig, session_id, ts.strftime('%Y%m%d%H%M%S'), queue, date)\n",
    "    request = requests.get(url)\n",
    "    data = request.json()\n",
    "    return data\n",
    "\n",
    "def Get_match_details(session_id, ID):\n",
    "    sig = get_Sig(\"getmatchdetailsbatch\")\n",
    "    ts = Get_ts()\n",
    "    url = \"{0}getmatchdetailsbatchJson/3880/{1}/{2}/{3}/{4}\".format(base_url, sig, session_id, ts.strftime('%Y%m%d%H%M%S'), ID)\n",
    "    request = requests.get(url)\n",
    "#     print(url)\n",
    "#     print(request)\n",
    "    data = request.json()\n",
    "    return data\n",
    "\n",
    "def Get_item_data():\n",
    "    sig = get_Sig(\"getitems\")\n",
    "    ts = Get_ts()\n",
    "    session_id, session_ts = Get_session()\n",
    "    url = \"{0}/getitemsJson/3880/{1}/{2}/{3}/1\".format(base_url, sig, session_id, ts.strftime('%Y%m%d%H%M%S'))\n",
    "    request = requests.get(url)\n",
    "    data = request.json()\n",
    "    return data\n",
    "\n",
    "def convert_item_data(data):\n",
    "    stats_list = ['Health',\n",
    "                 'Physical Protection',\n",
    "                 'Crowd Control Reduction',\n",
    "                 'Physical Power',\n",
    "                 'Attack Speed',\n",
    "                 'Physical Lifesteal',\n",
    "                 'Physical Penetration',\n",
    "                 'Magical Power',\n",
    "                 'Magical Lifesteal',\n",
    "                 'Mana',\n",
    "                 'Magical Penetration',\n",
    "                 'Cooldown Reduction',\n",
    "                 'MP5',\n",
    "                 'Magical Protection',\n",
    "                 'Movement Speed',\n",
    "                 'Critical Strike Chance',\n",
    "                 'Penetration',\n",
    "                 'HP5',\n",
    "                 'HP5 & MP5',\n",
    "                 'Magical Protection ',\n",
    "                 'Magical Power ',\n",
    "                 'Magical protection',\n",
    "                 ' ',\n",
    "                 'Unlocks at level 10',\n",
    "                 'Maximum Health',\n",
    "                 'Protections',\n",
    "                 'Magical power',\n",
    "                 'Basic Attack Damage',\n",
    "                 'Physical Critical Strike Chance',\n",
    "                 'Damage Reduction',\n",
    "                 'Magical Protections',\n",
    "                 'Physical power']\n",
    "    \n",
    "    exclude_keys = ['ItemDescription']\n",
    "    item = {k: data[k] for k in set(list(data.keys())) - set(exclude_keys)}\n",
    "    exclude_keys = ['Menuitems']\n",
    "    descriptions = {k: data[\"ItemDescription\"][k] for k in set(list(data[\"ItemDescription\"].keys())) - set(exclude_keys)}\n",
    "\n",
    "    value_list = list()\n",
    "    for x in stats_list:\n",
    "        empty = True\n",
    "        for y in data[\"ItemDescription\"][\"Menuitems\"]:\n",
    "            if y[\"Description\"] == x:\n",
    "                try:\n",
    "                    z = int(y[\"Value\"])\n",
    "                except:\n",
    "                    z = y[\"Value\"]\n",
    "                value_list.append(z)\n",
    "                empty = False\n",
    "        if empty:\n",
    "            value_list.append(0)\n",
    "\n",
    "    Stat_dict = dict(zip(stats_list, value_list))\n",
    "\n",
    "    item.update(Stat_dict)\n",
    "    item.update(descriptions)\n",
    "    \n",
    "    exclude_keys = [\"Magical Protection\", \"Magical Protection \", \"Magical Protections\", \"Magical protection\", \"Magical Power\", \"Magical Power \", \"Magical power\", \"Physical Power\", \"Physical power\"]\n",
    "    Version1 = {k: item[k] for k in set(list(item.keys())) - set(exclude_keys)}\n",
    "\n",
    "    Version2 = {\n",
    "        \"Magical Protections\": item[\"Magical Protection\"] + item[\"Magical Protection \"] + item[\"Magical Protections\"] + item[\"Magical protection\"],\n",
    "        \"Magical Power\": item[\"Magical power\"] + item[\"Magical Power \"] + item[\"Magical Power\"],\n",
    "        \"Physical Power\": item[\"Physical Power\"] + item[\"Physical power\"]\n",
    "    }\n",
    "    final = {}\n",
    "    true_final={}\n",
    "\n",
    "    final.update(Version1)\n",
    "    final.update(Version2)\n",
    "\n",
    "    for i in sorted(final):\n",
    "        true_final[i]=final[i]\n",
    "\n",
    "    return true_final\n",
    "\n",
    "def get_Items_full_data():\n",
    "    data = Get_item_data()\n",
    "\n",
    "    sqlite_insert_query_raw = \"\"\"\n",
    "            INSERT INTO {0}\n",
    "                VALUES (?,?,?,?,?,?,?,?,?,?,?,?,?,?,?,?,?,?,?,?,?,?,?,?,?,?,?,?,?,?,?,?,?,?,?,?,?,?,?,?,?,?,?);\n",
    "            \"\"\"\n",
    "    sqlite_insert_query = sqlite_insert_query_raw.format(\"Items\")\n",
    "\n",
    "    for x in data:\n",
    "        items = convert_item_data(x)\n",
    "        y = list(items.values())\n",
    "        cursor.execute(sqlite_insert_query, tuple(y))\n",
    "\n",
    "def Get_gods_data():\n",
    "    sig = get_Sig(\"getgods\")\n",
    "    ts = Get_ts()\n",
    "    session_id, session_ts = Get_session()\n",
    "    url = \"{0}/getgodsJson/3880/{1}/{2}/{3}/1\".format(base_url, sig, session_id, ts.strftime('%Y%m%d%H%M%S'))\n",
    "    request = requests.get(url)\n",
    "    data = request.json()\n",
    "    return data\n",
    "\n",
    "def SQL_gods_data():\n",
    "    output = Get_gods_data()\n",
    "    \n",
    "    sqlite_insert_query_raw = \"\"\"\n",
    "        INSERT INTO {}\n",
    "            VALUES (?,?,?,?,?,?,?,?,?,?,?,?,?,?,?,?,?,?,?,?,?,?,?,?,?,?,?,?,?,?,?,?,?,?,?,?,?,?,?,?,?,?,?,?,?,?,?,?,?);\n",
    "        \"\"\"\n",
    "    sqlite_insert_query = sqlite_insert_query_raw.format(\"Gods\")\n",
    "\n",
    "    for z in output:\n",
    "        exclude_keys = [\"Ability_1\", \"Ability_2\", \"Ability_3\", \"Ability_4\", \"Ability_5\",\"abilityDescription1\",\"abilityDescription2\",\"abilityDescription3\",\"abilityDescription4\",\"abilityDescription5\",\"basicAttack\"]\n",
    "        god_data = {k: z[k] for k in set(list(z.keys())) - set(exclude_keys)}\n",
    "        \n",
    "        final = {}\n",
    "        for i in sorted(god_data):\n",
    "            final[i]=god_data[i]\n",
    "        \n",
    "        y = list(final.values())\n",
    "        cursor.execute(sqlite_insert_query, tuple(y))\n",
    "\n",
    "def Get_gods_ability_data():\n",
    "    sig = get_Sig(\"getgodaltabilities\")\n",
    "    ts = Get_ts()\n",
    "    session_id, session_ts = Get_session()\n",
    "    url = \"{0}/getgodaltabilitiesJson/3880/{1}/{2}/{3}\".format(base_url, sig, session_id, ts.strftime('%Y%m%d%H%M%S'))\n",
    "    request = requests.get(url)\n",
    "    data = request.json()\n",
    "    return data\n",
    "    \n",
    "    \n",
    "def Get_Queue_data(Queue_id, Queue, date, Table):\n",
    "    failed_IDS = list()\n",
    "    \n",
    "    session_id, session_ts = Get_session()\n",
    "\n",
    "    x = Get_IDS(session_id, session_ts, Queue_id, date)\n",
    "\n",
    "    print(len(x), \"ID count\")\n",
    "    print(Queue)\n",
    "\n",
    "    All_Ids = list()\n",
    "    for i in x:\n",
    "        All_Ids.append(i[\"Match\"])\n",
    "\n",
    "    All_Ids_batched = list()\n",
    "    for i in range(round(len(All_Ids) / 10)):\n",
    "        All_Ids_batched.append(All_Ids[10 * i: 10 * i + 9])\n",
    "\n",
    "\n",
    "    for i, x in enumerate(All_Ids_batched):\n",
    "        try:\n",
    "            if i % 50 == 0:\n",
    "                print(i)\n",
    "\n",
    "            ts = Get_ts()\n",
    "            delta = ts - session_ts\n",
    "\n",
    "            if delta.total_seconds() > 840:\n",
    "                session_id, session_ts = Get_session()\n",
    "\n",
    "            output = Get_match_details(session_id, ','.join(x))\n",
    "\n",
    "            sqlite_insert_query_raw = \"\"\"\n",
    "            INSERT INTO {}\n",
    "                VALUES (?,?,?,?,?,?,?,?,?,?,?,?,?,?,?,?,?,?,?,?,?,?,?,?,?,?,?,?,?,?,?,?,?,?,?,?,?,?,?,?,?,?,?,?,?,?,?,?,?,?,?,?,?,?,?,?,?,?,?,?,?,?,?,?,?,?,?,?,?,?,?,?,?,?,?,?,?,?,?,?,?,?,?,?,?,?,?,?,?,?,?,?,?,?,?,?,?,?,?,?,?,?,?,?,?,?,?,?,?,?,?,?,?,?,?,?,?,?,?,?,?,?,?,?,?,?,?,?,?,?,?,?,?,?);\n",
    "            \"\"\"\n",
    "            sqlite_insert_query = sqlite_insert_query_raw.format(Table)\n",
    "\n",
    "            for z in output:\n",
    "                y = list(z.values())\n",
    "                ## this pop is to remove the entry for merged players as its a dictionary and SQL cant handle it easy\n",
    "                y.pop(98)\n",
    "                y.append(Queue)\n",
    "                cursor.execute(sqlite_insert_query, tuple(y))\n",
    "        except:\n",
    "            failed_IDS.append(x)\n",
    "            \n",
    "            \n",
    "    return failed_IDS\n",
    "            \n",
    "            "
   ]
  },
  {
   "cell_type": "markdown",
   "id": "4f4ea942",
   "metadata": {},
   "source": [
    "# API Interactions\n",
    "\n",
    "To do any interaction run the cells below the definitiion to perform that action"
   ]
  },
  {
   "cell_type": "markdown",
   "id": "54a210c7",
   "metadata": {},
   "source": [
    "### Ping the server to check API status"
   ]
  },
  {
   "cell_type": "code",
   "execution_count": 4,
   "id": "364ed7c2",
   "metadata": {},
   "outputs": [
    {
     "name": "stdout",
     "output_type": "stream",
     "text": [
      "https://api.smitegame.com/smiteapi.svc/pingJson\n",
      "<Response [200]>\n"
     ]
    }
   ],
   "source": [
    "url = \"https://api.smitegame.com/smiteapi.svc/pingJson\"\n",
    "request = requests.get(url)\n",
    "print(url)\n",
    "print(request)\n",
    "data = request.json()"
   ]
  },
  {
   "cell_type": "markdown",
   "id": "5f663894",
   "metadata": {},
   "source": [
    "### Check the status of daily limits"
   ]
  },
  {
   "cell_type": "code",
   "execution_count": 5,
   "id": "036c6de1",
   "metadata": {},
   "outputs": [
    {
     "name": "stdout",
     "output_type": "stream",
     "text": [
      "{\n",
      "    \"ret_msg\": \"Approved\",\n",
      "    \"session_id\": \"09E2930D6F4F4F098F06E4458B29FAE9\",\n",
      "    \"timestamp\": \"6/30/2022 10:56:50 AM\"\n",
      "}\n",
      "[\n",
      "    {\n",
      "        \"Active_Sessions\": 1,\n",
      "        \"Concurrent_Sessions\": 50,\n",
      "        \"Request_Limit_Daily\": 7500,\n",
      "        \"Session_Cap\": 500,\n",
      "        \"Session_Time_Limit\": 15,\n",
      "        \"Total_Requests_Today\": 5434,\n",
      "        \"Total_Sessions_Today\": 42,\n",
      "        \"ret_msg\": null\n",
      "    }\n",
      "]\n"
     ]
    },
    {
     "data": {
      "text/plain": [
       "0"
      ]
     },
     "execution_count": 5,
     "metadata": {},
     "output_type": "execute_result"
    }
   ],
   "source": [
    "Session_stats()"
   ]
  },
  {
   "cell_type": "markdown",
   "id": "1ce565b5",
   "metadata": {},
   "source": [
    "### Pull and insert data for all of the gods base stats"
   ]
  },
  {
   "cell_type": "code",
   "execution_count": 18,
   "id": "cf5b5bb8",
   "metadata": {},
   "outputs": [
    {
     "name": "stdout",
     "output_type": "stream",
     "text": [
      "{\n",
      "    \"ret_msg\": \"Approved\",\n",
      "    \"session_id\": \"9D2834896D7242ED984A9DF1E279CEDD\",\n",
      "    \"timestamp\": \"6/21/2022 1:58:16 PM\"\n",
      "}\n"
     ]
    }
   ],
   "source": [
    "## pulls the data for the gods stats (make sure to re run the gods table creation before running)\n",
    "\n",
    "SQL_gods_data()\n",
    "sqliteConnection.commit()"
   ]
  },
  {
   "cell_type": "markdown",
   "id": "047aa5eb",
   "metadata": {},
   "source": [
    "### Pull all of the game data for each date in the array (not each pull is around 1500 requests from the API)"
   ]
  },
  {
   "cell_type": "code",
   "execution_count": 7,
   "id": "e21b613b",
   "metadata": {
    "scrolled": true
   },
   "outputs": [
    {
     "name": "stdout",
     "output_type": "stream",
     "text": [
      "20220629\n",
      "{\n",
      "    \"ret_msg\": \"Approved\",\n",
      "    \"session_id\": \"60A98E6F62D34BD395E30F241202C6BE\",\n",
      "    \"timestamp\": \"6/30/2022 10:57:35 AM\"\n",
      "}\n",
      "875 ID count\n",
      "Joust_KnM\n",
      "0\n",
      "50\n",
      "{\n",
      "    \"ret_msg\": \"Approved\",\n",
      "    \"session_id\": \"BA5C5A0CC8C3454198FA920AEAA6FF73\",\n",
      "    \"timestamp\": \"6/30/2022 11:03:10 AM\"\n",
      "}\n",
      "2825 ID count\n",
      "Joust_Controller\n",
      "0\n",
      "50\n",
      "100\n",
      "150\n",
      "{\n",
      "    \"ret_msg\": \"Approved\",\n",
      "    \"session_id\": \"3586DD20F1A44CF3B8EDFFD9D19F7A80\",\n",
      "    \"timestamp\": \"6/30/2022 11:17:12 AM\"\n",
      "}\n",
      "200\n",
      "250\n",
      "{\n",
      "    \"ret_msg\": \"Approved\",\n",
      "    \"session_id\": \"3A3277857CE343ED9161F8037DEFF2CE\",\n",
      "    \"timestamp\": \"6/30/2022 11:22:52 AM\"\n",
      "}\n",
      "3000 ID count\n",
      "Conq_KnM\n",
      "0\n",
      "50\n",
      "100\n",
      "150\n",
      "200\n",
      "{\n",
      "    \"ret_msg\": \"Approved\",\n",
      "    \"session_id\": \"B591C9BC84A4456AA3FC1DE2DADE911B\",\n",
      "    \"timestamp\": \"6/30/2022 11:36:53 AM\"\n",
      "}\n",
      "250\n",
      "{\n",
      "    \"ret_msg\": \"Approved\",\n",
      "    \"session_id\": \"2684760BA1634C8B8A619AC00A844BDC\",\n",
      "    \"timestamp\": \"6/30/2022 11:41:54 AM\"\n",
      "}\n",
      "3697 ID count\n",
      "Conq_Controller\n",
      "0\n",
      "50\n",
      "100\n",
      "150\n",
      "200\n",
      "{\n",
      "    \"ret_msg\": \"Approved\",\n",
      "    \"session_id\": \"C6D7C66BC25945CDAEF5D5E47D3A61C1\",\n",
      "    \"timestamp\": \"6/30/2022 11:55:55 AM\"\n",
      "}\n",
      "250\n",
      "300\n",
      "350\n",
      "{\n",
      "    \"ret_msg\": \"Approved\",\n",
      "    \"session_id\": \"7D27F61DF9B84B8EA7A224D1679C4D56\",\n",
      "    \"timestamp\": \"6/30/2022 12:07:48 PM\"\n",
      "}\n",
      "1822 ID count\n",
      "Duel_KnM\n",
      "0\n",
      "50\n",
      "100\n",
      "150\n",
      "{\n",
      "    \"ret_msg\": \"Approved\",\n",
      "    \"session_id\": \"90AE7832B1B74030969B27DBAA1C2FC7\",\n",
      "    \"timestamp\": \"6/30/2022 12:19:54 PM\"\n",
      "}\n",
      "2228 ID count\n",
      "Duel_Controller\n",
      "0\n",
      "50\n",
      "100\n",
      "150\n",
      "200\n",
      "{\n",
      "    \"ret_msg\": \"Approved\",\n",
      "    \"session_id\": \"C95725A221BD41B899B76907DA2F6A95\",\n",
      "    \"timestamp\": \"6/30/2022 12:33:58 PM\"\n",
      "}\n"
     ]
    }
   ],
   "source": [
    "## pull all of the queue data for a given date (API holds data for 30 days)\n",
    "\n",
    "for date in [\"20220629\"]:\n",
    "    print(date)\n",
    "    Get_Queue_data(\"450\", \"Joust_KnM\", date, \"Joust_Ranked\")\n",
    "    Get_Queue_data(\"503\", \"Joust_Controller\", date, \"Joust_Ranked\")\n",
    "    Get_Queue_data(\"451\", \"Conq_KnM\", date, \"Conq_Ranked\")\n",
    "    Get_Queue_data(\"504\", \"Conq_Controller\", date, \"Conq_Ranked\")\n",
    "    Get_Queue_data(\"440\", \"Duel_KnM\", date, \"Duel_Ranked\")\n",
    "    Get_Queue_data(\"502\", \"Duel_Controller\", date, \"Duel_Ranked\")\n",
    "    \n",
    "sqliteConnection.commit()"
   ]
  },
  {
   "cell_type": "markdown",
   "id": "4c52e8d5",
   "metadata": {},
   "source": [
    "### Commit to the database if not already done"
   ]
  },
  {
   "cell_type": "code",
   "execution_count": 20,
   "id": "35adcef8",
   "metadata": {},
   "outputs": [],
   "source": [
    "sqliteConnection.commit()"
   ]
  },
  {
   "cell_type": "markdown",
   "id": "16b1d496",
   "metadata": {},
   "source": [
    "### Check the status of the match details database"
   ]
  },
  {
   "cell_type": "code",
   "execution_count": 8,
   "id": "55951078",
   "metadata": {},
   "outputs": [
    {
     "name": "stdout",
     "output_type": "stream",
     "text": [
      "Joust [(1522661,)]\n",
      "Conquest [(4249021,)]\n",
      "Duel [(490806,)]\n"
     ]
    }
   ],
   "source": [
    "SQL_command = \"\"\"\n",
    "SELECT count(*) FROM Joust_Ranked\n",
    "\"\"\"\n",
    "\n",
    "cursor.execute(SQL_command)\n",
    "\n",
    "print(\"Joust\", cursor.fetchall())\n",
    "\n",
    "SQL_command = \"\"\"\n",
    "SELECT count(*) FROM Conq_Ranked\n",
    "\"\"\"\n",
    "\n",
    "cursor.execute(SQL_command)\n",
    "\n",
    "print(\"Conquest\", cursor.fetchall())\n",
    "\n",
    "SQL_command = \"\"\"\n",
    "SELECT count(*) FROM Duel_Ranked\n",
    "\"\"\"\n",
    "\n",
    "cursor.execute(SQL_command)\n",
    "\n",
    "print(\"Duel\", cursor.fetchall())"
   ]
  },
  {
   "cell_type": "code",
   "execution_count": 9,
   "id": "f140154a",
   "metadata": {},
   "outputs": [
    {
     "name": "stdout",
     "output_type": "stream",
     "text": [
      "[('4/19/2022',), ('4/20/2022',), ('4/21/2022',), ('4/22/2022',), ('4/23/2022',), ('4/24/2022',), ('4/25/2022',), ('4/26/2022',), ('4/27/2022',), ('4/28/2022',), ('4/29/2022',), ('4/30/2022',), ('5/1/2022 ',), ('5/2/2022 ',), ('5/3/2022 ',), ('5/4/2022 ',), ('5/5/2022 ',), ('5/6/2022 ',), ('5/7/2022 ',), ('5/8/2022 ',), ('5/13/2022',), ('5/10/2022',), ('5/11/2022',), ('5/12/2022',), ('5/9/2022 ',), ('5/14/2022',), ('5/15/2022',), ('5/16/2022',), ('5/17/2022',), ('5/18/2022',), ('5/19/2022',), ('5/20/2022',), ('5/21/2022',), ('5/22/2022',), ('5/23/2022',), ('5/24/2022',), ('5/25/2022',), ('5/26/2022',), ('5/27/2022',), ('5/28/2022',), ('5/29/2022',), ('5/30/2022',), ('5/31/2022',), ('6/1/2022 ',), ('6/2/2022 ',), ('6/3/2022 ',), ('6/4/2022 ',), ('6/5/2022 ',), ('6/6/2022 ',), ('6/7/2022 ',), ('6/8/2022 ',), ('6/9/2022 ',), ('6/10/2022',), ('6/11/2022',), ('6/12/2022',), ('6/13/2022',), ('6/14/2022',), ('6/15/2022',), ('6/16/2022',), ('6/17/2022',), ('6/18/2022',), ('6/19/2022',), ('6/20/2022',), ('6/21/2022',), ('6/22/2022',), ('6/23/2022',), ('6/24/2022',), ('6/25/2022',), ('6/26/2022',), ('6/27/2022',), ('6/28/2022',), ('6/29/2022',)]\n"
     ]
    }
   ],
   "source": [
    "SQL_command = \"\"\"\n",
    "SELECT DISTINCT SUBSTRING(Entry_datetime, 0, 10) FROM Joust_Ranked\n",
    "\"\"\"\n",
    "\n",
    "cursor.execute(SQL_command)\n",
    "\n",
    "print(cursor.fetchall())"
   ]
  },
  {
   "cell_type": "code",
   "execution_count": null,
   "id": "de87dae7",
   "metadata": {},
   "outputs": [],
   "source": []
  },
  {
   "cell_type": "code",
   "execution_count": 8,
   "id": "6bc69e53",
   "metadata": {},
   "outputs": [],
   "source": [
    "cursor.close()"
   ]
  },
  {
   "cell_type": "code",
   "execution_count": null,
   "id": "9204bbbb",
   "metadata": {},
   "outputs": [],
   "source": []
  }
 ],
 "metadata": {
  "kernelspec": {
   "display_name": "Python 3 (ipykernel)",
   "language": "python",
   "name": "python3"
  },
  "language_info": {
   "codemirror_mode": {
    "name": "ipython",
    "version": 3
   },
   "file_extension": ".py",
   "mimetype": "text/x-python",
   "name": "python",
   "nbconvert_exporter": "python",
   "pygments_lexer": "ipython3",
   "version": "3.9.7"
  }
 },
 "nbformat": 4,
 "nbformat_minor": 5
}
